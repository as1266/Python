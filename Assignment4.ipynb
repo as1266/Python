{
  "nbformat": 4,
  "nbformat_minor": 0,
  "metadata": {
    "colab": {
      "name": "Assignment4.ipynb",
      "provenance": [],
      "authorship_tag": "ABX9TyNiidCvuaaRzsITc9Pd9rAp",
      "include_colab_link": true
    },
    "kernelspec": {
      "name": "python3",
      "display_name": "Python 3"
    }
  },
  "cells": [
    {
      "cell_type": "markdown",
      "metadata": {
        "id": "view-in-github",
        "colab_type": "text"
      },
      "source": [
        "<a href=\"https://colab.research.google.com/github/as1266/Python/blob/master/Assignment4.ipynb\" target=\"_parent\"><img src=\"https://colab.research.google.com/assets/colab-badge.svg\" alt=\"Open In Colab\"/></a>"
      ]
    },
    {
      "cell_type": "code",
      "metadata": {
        "id": "P14EWxzeioIU",
        "colab_type": "code",
        "colab": {}
      },
      "source": [
        "def fileReturn(fileName):\n",
        "    bool = True\n",
        "    while bool:\n",
        "        i = 1\n",
        "        if (i == 1):\n",
        "            ext = fileName.rfind(\".\")\n",
        "\n",
        "        if ext > 0:\n",
        "            print(fileName[ext + 1:])\n",
        "            bool = False\n",
        "\n",
        "        elif ext < 0:\n",
        "            print(\"Error\")\n",
        "            fileName = input(\"Please enter a filename\")\n",
        "\n",
        "        i = 2\n",
        "\n",
        "\n",
        "fileName = input(\"Please enter a file:\")\n",
        "fileReturn(fileName)"
      ],
      "execution_count": 0,
      "outputs": []
    },
    {
      "cell_type": "code",
      "metadata": {
        "id": "L21eURn1iyei",
        "colab_type": "code",
        "colab": {}
      },
      "source": [
        "import turtle\n",
        "\n",
        "\n",
        "def drawSquares(alexis, side):\n",
        "    for i in range(4):\n",
        "        alexis.forward(side)\n",
        "        alexis.left(90)\n",
        "\n",
        "\n",
        "window = turtle.Screen()\n",
        "window.bgcolor(\"Blue\")\n",
        "alex = turtle.Turtle()\n",
        "\n",
        "offsetSquare = -20\n",
        "\n",
        "for s in range(40, 202, 40):\n",
        "    drawSquares(alex, s)\n",
        "\n",
        "    alex.penup()\n",
        "    alex.goto(offsetSquare, offsetSquare)\n",
        "    alex.pendown()\n",
        "    offsetSquare = offsetSquare - 20\n",
        "\n",
        "window.mainloop()"
      ],
      "execution_count": 0,
      "outputs": []
    },
    {
      "cell_type": "code",
      "metadata": {
        "id": "k0JGQca6i00K",
        "colab_type": "code",
        "colab": {}
      },
      "source": [
        "def ReplaceFun(s, old, new):\n",
        "    IndexCurrent = s.find(old)\n",
        "    while IndexCurrent != -1:\n",
        "        s = s[:IndexCurrent] + new + s[IndexCurrent + 1:]\n",
        "        IndexCurrent = s.find(old)\n",
        "    return s\n",
        "\n",
        "\n",
        "s = input(\"Enter a word please \")\n",
        "old = input(\"Please enter a letter to replace a letter in the word \")\n",
        "new = input(\"Please enter a letter to replace in the letter with \")\n",
        "value = ReplaceFun(s, old, new)\n",
        "print(value)"
      ],
      "execution_count": 0,
      "outputs": []
    },
    {
      "cell_type": "code",
      "metadata": {
        "id": "o98ztoWai4ZI",
        "colab_type": "code",
        "colab": {}
      },
      "source": [
        "import turtle\n",
        "\n",
        "\n",
        "def maze(number):\n",
        "    for i in range(number):\n",
        "        alex.forward(i)\n",
        "        alex.left(90)\n",
        "\n",
        "\n",
        "\n",
        "window = turtle.Screen()\n",
        "alex = turtle.Turtle()\n",
        "number= 100\n",
        "maze(number)\n",
        "\n",
        "window.mainloop()"
      ],
      "execution_count": 0,
      "outputs": []
    }
  ]
}
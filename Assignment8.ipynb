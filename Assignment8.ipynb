{
  "nbformat": 4,
  "nbformat_minor": 0,
  "metadata": {
    "colab": {
      "name": "Assignment8.ipynb",
      "provenance": [],
      "authorship_tag": "ABX9TyM+RCjuXyNXDIaRO9K8U38p",
      "include_colab_link": true
    },
    "kernelspec": {
      "name": "python3",
      "display_name": "Python 3"
    }
  },
  "cells": [
    {
      "cell_type": "markdown",
      "metadata": {
        "id": "view-in-github",
        "colab_type": "text"
      },
      "source": [
        "<a href=\"https://colab.research.google.com/github/as1266/Python/blob/master/Assignment8.ipynb\" target=\"_parent\"><img src=\"https://colab.research.google.com/assets/colab-badge.svg\" alt=\"Open In Colab\"/></a>"
      ]
    },
    {
      "cell_type": "code",
      "metadata": {
        "id": "VHvt7xXFSf40",
        "colab_type": "code",
        "colab": {}
      },
      "source": [
        "class Point:\n",
        "    def __init__(self, x=0, y=0):\n",
        "        self.x = x\n",
        "        self.y = y\n",
        "\n",
        "    def distance_from_origin(self):\n",
        "        return (self.x ** 2 + self.y ** 2) ** 0.5\n",
        "\n",
        "    def __str__(self):\n",
        "        # return \"You can't print me!\"\n",
        "        return \"({0},{1})\".format(self.x, self.y)\n",
        "\n",
        "    def halfway(self, target):\n",
        "        mx = (self.x + target.x) / 2\n",
        "        my = (self.y + target.y) / 2\n",
        "        return Point(mx, my)\n",
        "\n",
        "    def reflect_X(self):\n",
        "        y = self.y\n",
        "        x = self.x\n",
        "\n",
        "        newy =0-y\n",
        "\n",
        "        if x < 0:\n",
        "            newx = x\n",
        "            newy =0-y\n",
        "            return Point(newx,newy)\n",
        "        return Point(x,newy)\n",
        "\n",
        "\n",
        "def print_point(pt):\n",
        "    print(\"({0},{1})\".format(pt.x, pt.y))\n",
        "\n",
        "\n",
        "def midpoint(p1, p2):\n",
        "    mx = (p1.x + p2.x) / 2\n",
        "    my = (p1.y + p2.y) / 2\n",
        "    return Point(mx, my)\n",
        "\n",
        "\n",
        "def same_coordinates(p1, p2):\n",
        "    return (p1.x == p2.x) and (p1.y == p2.y)\n",
        "\n",
        "\n",
        "p = Point()\n",
        "q = Point(3, 4)\n",
        "\n",
        "r = Point(3, -4)\n",
        "print(\"The current value of r is :\",r)\n",
        "\n",
        "print(\"The reflected value of the point r over the x-axis is:\",r.reflect_X())\n"
      ],
      "execution_count": 0,
      "outputs": []
    },
    {
      "cell_type": "code",
      "metadata": {
        "id": "hSqeQIB8S1mX",
        "colab_type": "code",
        "colab": {}
      },
      "source": [
        "import Point\n",
        "\n",
        "\n",
        "class Rectangle:\n",
        "    def __init__(self, posn, w, h):\n",
        "        self.corner = posn\n",
        "        self.width = w\n",
        "        self.height = h\n",
        "\n",
        "    def __str__(self):\n",
        "        return \"({0},{1},{2})\".format(self.corner, self.width, self.height)\n",
        "\n",
        "    def grow(self, delta_width, delta_heigh):\n",
        "        self.width += delta_width\n",
        "        self.height += delta_heigh\n",
        "\n",
        "    def move(self, dx, dy):\n",
        "        self.corner.x += dx\n",
        "        self.corner.y += dy\n",
        "\n",
        "    def area(self):\n",
        "        w = self.width\n",
        "        h = self.height\n",
        "        A = w * h\n",
        "        return A\n",
        "\n",
        "    def flip(self):\n",
        "        newWidth = self.height\n",
        "        newheight = self.width\n",
        "        return newWidth,newheight\n",
        "    def within(self, x, y):\n",
        "        width= self.width\n",
        "        height = self.height\n",
        "        min =0\n",
        "        inside = \"is\"\n",
        "        outside = \"is not\"\n",
        "        if x < width and width > min:\n",
        "            if y < height and min < height:\n",
        "                return inside\n",
        "        return outside\n",
        "\n",
        "\n",
        "box = Rectangle(Point.Point(0, 0), 100, 200)\n",
        "newbox = Rectangle(Point.Point(0,0),10,5)\n",
        "\n",
        "\n",
        "print(\"The area of the box instance is:\", box.area())\n",
        "\n",
        "print(\"The swapped value of the width and height is: \",box.flip())\n",
        "\n",
        "pointx= int(input(\"Please enter a x value to see if it falls within the box: \"))\n",
        "pointy= int(input(\"Please enter a y value to see if it falls within the box: \"))\n",
        "print(\"The value of x\",pointx,\"and the value of y\", pointy, newbox.within(pointx,pointy), \"within the box\")\n"
      ],
      "execution_count": 0,
      "outputs": []
    },
    {
      "cell_type": "code",
      "metadata": {
        "id": "DLWIPFPhS8Q6",
        "colab_type": "code",
        "colab": {}
      },
      "source": [
        "import math\n",
        "\n",
        "def distance(x1,y1):\n",
        "    x2=4\n",
        "    y2=6\n",
        "    deltaX=x2-x1\n",
        "    deltay=y2-y1\n",
        "    return math.sqrt(deltaX**2+deltay**2)\n",
        "\n",
        "print(distance(1,2))"
      ],
      "execution_count": 0,
      "outputs": []
    }
  ]
}
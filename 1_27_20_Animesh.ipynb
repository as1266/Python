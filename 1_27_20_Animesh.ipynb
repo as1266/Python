{
  "nbformat": 4,
  "nbformat_minor": 0,
  "metadata": {
    "colab": {
      "name": "1/27/20_Animesh.ipynb",
      "provenance": [],
      "collapsed_sections": [],
      "authorship_tag": "ABX9TyOpmeThFTIOgnN8Ew7+cDwZ",
      "include_colab_link": true
    },
    "kernelspec": {
      "name": "python3",
      "display_name": "Python 3"
    }
  },
  "cells": [
    {
      "cell_type": "markdown",
      "metadata": {
        "id": "view-in-github",
        "colab_type": "text"
      },
      "source": [
        "<a href=\"https://colab.research.google.com/github/as1266/Python/blob/master/1_27_20_Animesh.ipynb\" target=\"_parent\"><img src=\"https://colab.research.google.com/assets/colab-badge.svg\" alt=\"Open In Colab\"/></a>"
      ]
    },
    {
      "cell_type": "code",
      "metadata": {
        "id": "AQlFt236Wvlc",
        "colab_type": "code",
        "colab": {
          "base_uri": "https://localhost:8080/",
          "height": 34
        },
        "outputId": "5d46b4f6-4162-4c66-bddd-9e90c3dbbbe1"
      },
      "source": [
        "def function(a,b):\n",
        "  s=3.14*(1+a/b)**3\n",
        "  return s;\n",
        "print(function(5,8))\n"
      ],
      "execution_count": 8,
      "outputs": [
        {
          "output_type": "stream",
          "text": [
            "13.4737890625\n"
          ],
          "name": "stdout"
        }
      ]
    },
    {
      "cell_type": "code",
      "metadata": {
        "id": "--f4mW-qYxNf",
        "colab_type": "code",
        "colab": {
          "base_uri": "https://localhost:8080/",
          "height": 68
        },
        "outputId": "da49324b-351a-4f24-8f05-86fa7f3707ab"
      },
      "source": [
        "\n",
        "a=input(\"Please Input a \")\n",
        "b=input(\"Please Input b \")\n",
        "a=float(a)\n",
        "b=float(b)\n",
        "s=3.14*(1+a/b)**3\n",
        "print(s)"
      ],
      "execution_count": 12,
      "outputs": [
        {
          "output_type": "stream",
          "text": [
            "Please Input a 5\n",
            "Please Input b 6\n",
            "19.3487962962963\n"
          ],
          "name": "stdout"
        }
      ]
    }
  ]
}
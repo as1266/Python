{
  "nbformat": 4,
  "nbformat_minor": 0,
  "metadata": {
    "colab": {
      "name": "intro.pynb",
      "provenance": [],
      "authorship_tag": "ABX9TyPOYDabco6M7HUixASv5JYZ",
      "include_colab_link": true
    },
    "kernelspec": {
      "name": "python3",
      "display_name": "Python 3"
    }
  },
  "cells": [
    {
      "cell_type": "markdown",
      "metadata": {
        "id": "view-in-github",
        "colab_type": "text"
      },
      "source": [
        "<a href=\"https://colab.research.google.com/github/as1266/Python/blob/master/intro_pynb.ipynb\" target=\"_parent\"><img src=\"https://colab.research.google.com/assets/colab-badge.svg\" alt=\"Open In Colab\"/></a>"
      ]
    },
    {
      "cell_type": "code",
      "metadata": {
        "id": "IS_e5owsrVef",
        "colab_type": "code",
        "outputId": "0d7879e9-ff06-4c2f-bc5d-9b4c44a333b3",
        "colab": {
          "base_uri": "https://localhost:8080/",
          "height": 51
        }
      },
      "source": [
        "name_Person=\"John\"\n",
        "print(name_Person)\n",
        "\n",
        "x=10\n",
        "y=2\n",
        "print(x*y)\n"
      ],
      "execution_count": 0,
      "outputs": [
        {
          "output_type": "stream",
          "text": [
            "John\n",
            "20\n"
          ],
          "name": "stdout"
        }
      ]
    },
    {
      "cell_type": "code",
      "metadata": {
        "id": "0RXR6blyslq1",
        "colab_type": "code",
        "outputId": "8137713d-5f09-43a3-8968-622080a4462d",
        "colab": {
          "base_uri": "https://localhost:8080/",
          "height": 34
        }
      },
      "source": [
        "intro=\"Hello World\"\n",
        "print(intro)"
      ],
      "execution_count": 0,
      "outputs": [
        {
          "output_type": "stream",
          "text": [
            "Hello World\n"
          ],
          "name": "stdout"
        }
      ]
    },
    {
      "cell_type": "code",
      "metadata": {
        "id": "FcsQ5PwHru8f",
        "colab_type": "code",
        "outputId": "9cda7eaa-8462-451b-fe74-4c98347af104",
        "colab": {
          "base_uri": "https://localhost:8080/",
          "height": 34
        }
      },
      "source": [
        "j=3\n",
        "c=1+2*j\n",
        "c"
      ],
      "execution_count": 0,
      "outputs": [
        {
          "output_type": "execute_result",
          "data": {
            "text/plain": [
              "7"
            ]
          },
          "metadata": {
            "tags": []
          },
          "execution_count": 4
        }
      ]
    },
    {
      "cell_type": "code",
      "metadata": {
        "id": "jcY5c_6wsG21",
        "colab_type": "code",
        "outputId": "77da086e-5b64-425a-faec-b830b1ad1c8c",
        "colab": {
          "base_uri": "https://localhost:8080/",
          "height": 34
        }
      },
      "source": [
        "x=10\n",
        "y=2\n",
        "print(x**y)"
      ],
      "execution_count": 0,
      "outputs": [
        {
          "output_type": "stream",
          "text": [
            "100\n"
          ],
          "name": "stdout"
        }
      ]
    },
    {
      "cell_type": "code",
      "metadata": {
        "id": "BJJlEmhvsL5a",
        "colab_type": "code",
        "outputId": "a18cf1ba-961e-48b1-8a57-2336c48240ea",
        "colab": {
          "base_uri": "https://localhost:8080/",
          "height": 34
        }
      },
      "source": [
        "x=10\n",
        "y=20\n",
        "x+=10 #x=x+10\n",
        "print(x)"
      ],
      "execution_count": 0,
      "outputs": [
        {
          "output_type": "stream",
          "text": [
            "20\n"
          ],
          "name": "stdout"
        }
      ]
    },
    {
      "cell_type": "code",
      "metadata": {
        "id": "yw-m7vWQsL8y",
        "colab_type": "code",
        "outputId": "0f1e1bc4-4bab-4e72-e93c-36db26127173",
        "colab": {
          "base_uri": "https://localhost:8080/",
          "height": 51
        }
      },
      "source": [
        "x=10\n",
        "y=20\n",
        "x+=10 #x=x+10\n",
        "print(x)\n",
        "print(x!=y)"
      ],
      "execution_count": 0,
      "outputs": [
        {
          "output_type": "stream",
          "text": [
            "20\n",
            "False\n"
          ],
          "name": "stdout"
        }
      ]
    },
    {
      "cell_type": "code",
      "metadata": {
        "id": "xteRhnH1tT-j",
        "colab_type": "code",
        "outputId": "eddffa7a-3694-4b4f-dfb5-ca3c52708534",
        "colab": {
          "base_uri": "https://localhost:8080/",
          "height": 51
        }
      },
      "source": [
        "x=10\n",
        "y=20\n",
        "#x+=10 #x=x+10\n",
        "print(x)\n",
        "print(not (x<100))"
      ],
      "execution_count": 0,
      "outputs": [
        {
          "output_type": "stream",
          "text": [
            "10\n",
            "False\n"
          ],
          "name": "stdout"
        }
      ]
    },
    {
      "cell_type": "code",
      "metadata": {
        "id": "dx860bpNucw9",
        "colab_type": "code",
        "outputId": "17553072-86e6-4f9c-d6cd-c22389598ecb",
        "colab": {
          "base_uri": "https://localhost:8080/",
          "height": 34
        }
      },
      "source": [
        "sum=0\n",
        "x=1\n",
        "while(x<100):\n",
        "  sum=sum+x\n",
        "  x+=1\n",
        "print(sum)"
      ],
      "execution_count": 0,
      "outputs": [
        {
          "output_type": "stream",
          "text": [
            "4950\n"
          ],
          "name": "stdout"
        }
      ]
    },
    {
      "cell_type": "code",
      "metadata": {
        "id": "NzX5jgqAvIAh",
        "colab_type": "code",
        "outputId": "6d4ec536-4f34-42e3-fff8-207b8025c14d",
        "colab": {
          "base_uri": "https://localhost:8080/",
          "height": 102
        }
      },
      "source": [
        "print(int(3.14))\n",
        "print(int(3.99))\n",
        "print(int(\"23345\"))\n",
        "print(float(\"12.365\"))\n",
        "str(1234567)"
      ],
      "execution_count": 0,
      "outputs": [
        {
          "output_type": "stream",
          "text": [
            "3\n",
            "3\n",
            "23345\n",
            "12.365\n"
          ],
          "name": "stdout"
        },
        {
          "output_type": "execute_result",
          "data": {
            "text/plain": [
              "'1234567'"
            ]
          },
          "metadata": {
            "tags": []
          },
          "execution_count": 17
        }
      ]
    },
    {
      "cell_type": "code",
      "metadata": {
        "id": "kDiSe8IdwIIl",
        "colab_type": "code",
        "outputId": "a6d17efe-7f51-4e8c-8e88-0b04188c2276",
        "colab": {
          "base_uri": "https://localhost:8080/",
          "height": 34
        }
      },
      "source": [
        "Fruit=\"apple \"\n",
        "baked_foods=\"nut bread\"\n",
        "print(Fruit+ baked_foods)"
      ],
      "execution_count": 0,
      "outputs": [
        {
          "output_type": "stream",
          "text": [
            "apple nut bread\n"
          ],
          "name": "stdout"
        }
      ]
    },
    {
      "cell_type": "code",
      "metadata": {
        "id": "O3jmL4RoxNSk",
        "colab_type": "code",
        "outputId": "64bf703a-cbea-4c52-8099-27c34dda26e6",
        "colab": {
          "base_uri": "https://localhost:8080/",
          "height": 51
        }
      },
      "source": [
        "name=input(\"please input your name! \")\n",
        "print(name)"
      ],
      "execution_count": 0,
      "outputs": [
        {
          "output_type": "stream",
          "text": [
            "please input your name! Animesh\n",
            "Animesh\n"
          ],
          "name": "stdout"
        }
      ]
    },
    {
      "cell_type": "code",
      "metadata": {
        "id": "LbuozWHXxfHg",
        "colab_type": "code",
        "outputId": "fb81c013-1247-46a7-92db-134ed94964c0",
        "colab": {
          "base_uri": "https://localhost:8080/",
          "height": 51
        }
      },
      "source": [
        "number=input(\"Please Enter A Number! \")\n",
        "number=int(number)\n",
        "print(number+1)"
      ],
      "execution_count": 0,
      "outputs": [
        {
          "output_type": "stream",
          "text": [
            "Please Enter A Number! 1234\n",
            "1235\n"
          ],
          "name": "stdout"
        }
      ]
    },
    {
      "cell_type": "code",
      "metadata": {
        "id": "v1Z8NsYtyi0D",
        "colab_type": "code",
        "outputId": "36f07591-7dd1-4cd9-8ab8-b5f8efd6acba",
        "colab": {
          "base_uri": "https://localhost:8080/",
          "height": 51
        }
      },
      "source": [
        "radius=input(\"Please Enter the radius! \")\n",
        "radius=float(radius)\n",
        "area=3.14*radius**2\n",
        "print(\"The area of the circle is {0} \", area)"
      ],
      "execution_count": 0,
      "outputs": [
        {
          "output_type": "stream",
          "text": [
            "Please Enter the radius! 234\n",
            "The area of the circle is is {0}  171933.84\n"
          ],
          "name": "stdout"
        }
      ]
    },
    {
      "cell_type": "code",
      "metadata": {
        "id": "z_bH1UsrzSRt",
        "colab_type": "code",
        "outputId": "88310350-820c-4657-fbd9-406fccc495e2",
        "colab": {
          "base_uri": "https://localhost:8080/",
          "height": 51
        }
      },
      "source": [
        "r=float(input(\"please enter radius! \"))\n",
        "print(\"The area of the circle is \", 3.14*r**2)"
      ],
      "execution_count": 0,
      "outputs": [
        {
          "output_type": "stream",
          "text": [
            "please enter radius! 234\n",
            "The area of the circle is  171933.84\n"
          ],
          "name": "stdout"
        }
      ]
    },
    {
      "cell_type": "code",
      "metadata": {
        "id": "UjbMApD70MVR",
        "colab_type": "code",
        "colab": {}
      },
      "source": [
        ""
      ],
      "execution_count": 0,
      "outputs": []
    }
  ]
}
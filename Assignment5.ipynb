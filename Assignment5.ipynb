{
  "nbformat": 4,
  "nbformat_minor": 0,
  "metadata": {
    "colab": {
      "name": "Assignment5",
      "provenance": [],
      "collapsed_sections": [],
      "authorship_tag": "ABX9TyM9dArOkmU2MiEgTOs5Q6m5",
      "include_colab_link": true
    },
    "kernelspec": {
      "name": "python3",
      "display_name": "Python 3"
    }
  },
  "cells": [
    {
      "cell_type": "markdown",
      "metadata": {
        "id": "view-in-github",
        "colab_type": "text"
      },
      "source": [
        "<a href=\"https://colab.research.google.com/github/as1266/Python/blob/master/Assignment5.ipynb\" target=\"_parent\"><img src=\"https://colab.research.google.com/assets/colab-badge.svg\" alt=\"Open In Colab\"/></a>"
      ]
    },
    {
      "cell_type": "code",
      "metadata": {
        "id": "evao1Cch0C2_",
        "colab_type": "code",
        "colab": {
          "base_uri": "https://localhost:8080/",
          "height": 34
        },
        "outputId": "7b60035a-daca-462a-db4b-0652dc8e26fd"
      },
      "source": [
        "def tupe( students , name):\n",
        "    for i in students:\n",
        "        if name in i:\n",
        "            return i\n",
        "\n",
        "students = (\n",
        "    (\"John\", \"js1234\", [\"compSci\", \"Physics\"]),\n",
        "    (\"Vusi\", \"v1234\", [\"Maths\", \"CompSci\", \"Stats\"]),\n",
        ")\n",
        "name = \"John\"\n",
        "print(tupe(students, name))"
      ],
      "execution_count": 1,
      "outputs": [
        {
          "output_type": "stream",
          "text": [
            "('John', 'js1234', ['compSci', 'Physics'])\n"
          ],
          "name": "stdout"
        }
      ]
    },
    {
      "cell_type": "code",
      "metadata": {
        "id": "Ffc67u080F4q",
        "colab_type": "code",
        "colab": {
          "base_uri": "https://localhost:8080/",
          "height": 102
        },
        "outputId": "bf20f4cd-0753-4b8a-bd97-2e9ae050acb4"
      },
      "source": [
        "def frequency(str):\n",
        "    str = str.split()\n",
        "    str2= []\n",
        "    for i in str:\n",
        "        if i not in str2:\n",
        "            str2.append(i)\n",
        "    print(\"Word        Count\")\n",
        "    print(\"=================\")\n",
        "    for i in range(0, len(str2)):\n",
        "        print(str2[i],\"       \",str.count(str2[i]))\n",
        "\n",
        "str = 'apple apple apple mango mango hello hello'\n",
        "frequency(str)\n",
        "\n"
      ],
      "execution_count": 2,
      "outputs": [
        {
          "output_type": "stream",
          "text": [
            "Word        Count\n",
            "=================\n",
            "apple         3\n",
            "mango         2\n",
            "hello         2\n"
          ],
          "name": "stdout"
        }
      ]
    },
    {
      "cell_type": "code",
      "metadata": {
        "id": "RI4uDLak0Lki",
        "colab_type": "code",
        "colab": {
          "base_uri": "https://localhost:8080/",
          "height": 51
        },
        "outputId": "33f13bfd-7177-4dc9-e639-8922042ed26b"
      },
      "source": [
        "def make(row, col):\n",
        "    arr = []\n",
        "    matrix = []\n",
        "    for l in range(row):\n",
        "        for k in range(col):\n",
        "            arr.append(k)\n",
        "        matrix.append(arr)\n",
        "        return matrix\n",
        "\n",
        "\n",
        "def ret(mat, val):\n",
        "    for i in range(len(mat)):\n",
        "        for j in range(len(mat[i])):\n",
        "            if val == mat[i][j]:\n",
        "                return (i, j)\n",
        "    return -1\n",
        "\n",
        "\n",
        "row = 4\n",
        "col = 2\n",
        "y = make(row, col)\n",
        "print(y)\n",
        "print(\"The Row and column is =\", ret(y, 1))\n",
        "\n"
      ],
      "execution_count": 7,
      "outputs": [
        {
          "output_type": "stream",
          "text": [
            "[[0, 1]]\n",
            "The Row and column is = (0, 1)\n"
          ],
          "name": "stdout"
        }
      ]
    }
  ]
}
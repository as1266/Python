{
  "nbformat": 4,
  "nbformat_minor": 0,
  "metadata": {
    "colab": {
      "name": "Assignment7.ipynb",
      "provenance": [],
      "collapsed_sections": [],
      "authorship_tag": "ABX9TyOxDj1X/i3TJNVcj4WM9DND",
      "include_colab_link": true
    },
    "kernelspec": {
      "name": "python3",
      "display_name": "Python 3"
    }
  },
  "cells": [
    {
      "cell_type": "markdown",
      "metadata": {
        "id": "view-in-github",
        "colab_type": "text"
      },
      "source": [
        "<a href=\"https://colab.research.google.com/github/as1266/Python/blob/master/Assignment7.ipynb\" target=\"_parent\"><img src=\"https://colab.research.google.com/assets/colab-badge.svg\" alt=\"Open In Colab\"/></a>"
      ]
    },
    {
      "cell_type": "code",
      "metadata": {
        "id": "qQxXI_2teGtR",
        "colab_type": "code",
        "colab": {}
      },
      "source": [
        "\n",
        "import turtle\n",
        "import math\n",
        "\n",
        "def drawSquares(alexis, side, nums):\n",
        "    for i in range(4):\n",
        "        alexis.forward(side)\n",
        "        alexis.left(90)\n",
        "\n",
        "    side =30*2+side\n",
        "    alexis.right(135)\n",
        "    alexis.penup()\n",
        "    alexis.forward(math.sqrt(2*30**2))\n",
        "    alexis.pendown()\n",
        "    alexis.left(135)\n",
        "    nums = nums+1\n",
        "    if nums == 5:\n",
        "        return\n",
        "\n",
        "    drawSquares(alexis,side, nums)\n",
        "\n",
        "\n",
        "window = turtle.Screen()\n",
        "window.bgcolor(\"White\")\n",
        "alex = turtle.Turtle()\n",
        "\n",
        "drawSquares(alex, 30, 1)\n",
        "\n",
        "\n",
        "window.mainloop()\n"
      ],
      "execution_count": 0,
      "outputs": []
    },
    {
      "cell_type": "code",
      "metadata": {
        "id": "rHstDYiNePvA",
        "colab_type": "code",
        "colab": {
          "base_uri": "https://localhost:8080/",
          "height": 34
        },
        "outputId": "5dd11eb5-7303-4f7f-844d-30ba3b7d39d9"
      },
      "source": [
        "# 2:Write a function count that returns the total count of a specific number in a nested list.  The requirements are\n",
        "# as follows. The element’s type of the list should be int. It should at least have 5 nested in depth. You can define\n",
        "# the number by yourself.\n",
        "\n",
        "def nest(lst, nums, count):\n",
        "    first = True\n",
        "    for i in lst:\n",
        "        if type(i) is list:\n",
        "            value = nest(i, nums, count)\n",
        "            if value == nums:\n",
        "                count = count+1\n",
        "        else:\n",
        "            value = i\n",
        "            count = count\n",
        "        if value == nums:\n",
        "            count = count + 1\n",
        "        else:\n",
        "            count = count\n",
        "        if first:\n",
        "            count = count + 1\n",
        "            first = False\n",
        "    return count\n",
        "\n",
        "lst = [1, 1, 2, 3, [4, 11, [6, 8, [1, 2, [6, 3, 3, 4], 3, 4], 8, 9, 10], 11, 5], 3, 14]\n",
        "nums = 1\n",
        "count = 0\n",
        "print(nest(lst, nums, count))\n"
      ],
      "execution_count": 1,
      "outputs": [
        {
          "output_type": "stream",
          "text": [
            "3\n"
          ],
          "name": "stdout"
        }
      ]
    }
  ]
}
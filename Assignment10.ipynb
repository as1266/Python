{
  "nbformat": 4,
  "nbformat_minor": 0,
  "metadata": {
    "colab": {
      "name": "Assignment10.ipynb",
      "provenance": [],
      "authorship_tag": "ABX9TyMOBLJwWFgnRGZl7OYmjNMw",
      "include_colab_link": true
    },
    "kernelspec": {
      "name": "python3",
      "display_name": "Python 3"
    }
  },
  "cells": [
    {
      "cell_type": "markdown",
      "metadata": {
        "id": "view-in-github",
        "colab_type": "text"
      },
      "source": [
        "<a href=\"https://colab.research.google.com/github/as1266/Python/blob/master/Assignment10.ipynb\" target=\"_parent\"><img src=\"https://colab.research.google.com/assets/colab-badge.svg\" alt=\"Open In Colab\"/></a>"
      ]
    },
    {
      "cell_type": "code",
      "metadata": {
        "id": "TaZoSgAwLxKt",
        "colab_type": "code",
        "colab": {}
      },
      "source": [
        "import pymysql\n",
        "\n",
        "db = pymysql.connect(\"localhost\", \"root\", \"Computer34_\", \"world\")\n",
        "cursor = db.cursor()\n",
        "cursor2 = db.cursor()\n",
        "\n",
        "\n",
        "def allinfo():\n",
        "    cursor.execute(\"SELECT Name FROM world.country;\")\n",
        "    data = cursor.fetchall()\n",
        "    print(\"Country Name\")\n",
        "    print(\"-----------------------\")\n",
        "    for i in data:\n",
        "        print(str(i[0]))\n",
        "    print(\"-----------------------\")\n",
        "    cursor.close()\n",
        "\n",
        "\n",
        "allinfo()\n",
        "\n",
        "\n",
        "def oneInfo(name):\n",
        "    sql = \"SELECT Name From world.country WHERE Name =%s\"\n",
        "    cursor2.execute(sql, name)\n",
        "    data = cursor2.fetchone()\n",
        "    print(\"Country Name\")\n",
        "    print(\"-----------------------------\")\n",
        "    for i in data:\n",
        "        print(str(i))\n",
        "    print(\"-----------------------\")\n",
        "    cursor2.close()\n",
        "\n",
        "\n",
        "name = str(input(\"Please enter the name of the country you would like to retrieve!\"))\n",
        "oneInfo(name)\n",
        "\n",
        "db.close()\n"
      ],
      "execution_count": 0,
      "outputs": []
    }
  ]
}
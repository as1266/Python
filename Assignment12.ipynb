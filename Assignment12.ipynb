{
  "nbformat": 4,
  "nbformat_minor": 0,
  "metadata": {
    "colab": {
      "name": "Assignment12.ipynb",
      "provenance": [],
      "collapsed_sections": [],
      "authorship_tag": "ABX9TyOLId5vF5gb517MAzeVlyD/",
      "include_colab_link": true
    },
    "kernelspec": {
      "name": "python3",
      "display_name": "Python 3"
    }
  },
  "cells": [
    {
      "cell_type": "markdown",
      "metadata": {
        "id": "view-in-github",
        "colab_type": "text"
      },
      "source": [
        "<a href=\"https://colab.research.google.com/github/as1266/Python/blob/master/Assignment12.ipynb\" target=\"_parent\"><img src=\"https://colab.research.google.com/assets/colab-badge.svg\" alt=\"Open In Colab\"/></a>"
      ]
    },
    {
      "cell_type": "code",
      "metadata": {
        "id": "PN95qJz8WEoW",
        "colab_type": "code",
        "colab": {}
      },
      "source": [
        "import csv\n",
        "import pymysql\n",
        "import pandas as pd\n",
        "\n",
        "\n",
        "def send():\n",
        "    filename = \"assign11-1-ch02-data.csv\"\n",
        "    db = pymysql.connect(\"localhost\", \"root\", \"Computer34_\", \"assignment11\")\n",
        "    cursor = db.cursor()\n",
        "\n",
        "    with open(filename) as file:\n",
        "        readdata = csv.reader(file)\n",
        "        for row in readdata:\n",
        "            if readdata.line_num > 1:\n",
        "                sql = \"insert into ch02_data(dates,numbers) values(%s,%s)\"\n",
        "                values = (row[0], row[1])\n",
        "\n",
        "                cursor.execute(sql, values)\n",
        "                db.commit()\n",
        "        cursor.close()\n",
        "        db.close()\n",
        "        return\n",
        "\n",
        "\n",
        "def export():\n",
        "    db = pymysql.connect(\"localhost\", \"root\", \"Computer34_\", \"assignment11\")\n",
        "    cursor = db.cursor()\n",
        "\n",
        "    sql = \"Select dates,SUM(numbers) FROM ch02_data GROUP BY dates \"\n",
        "\n",
        "    cursor.execute(sql)\n",
        "    data = cursor.fetchall()\n",
        "    dates=[]\n",
        "    numbers= []\n",
        "\n",
        "    for row in data:\n",
        "        dates.append(row[0])\n",
        "        numbers.append(row[1])\n",
        "\n",
        "    dit = {'dates':dates, 'Totalnumbers':numbers}\n",
        "    path='output.xlsx'\n",
        "    write = pd.ExcelWriter(path)\n",
        "\n",
        "    df = pd.DataFrame(dit)\n",
        "    df.to_excel(write,columns =['dates','Totalnumbers'],index = False, encoding='utf-8',sheet_name='Output')\n",
        "    write.save()\n",
        "\n",
        "    cursor.close()\n",
        "    db.close()\n",
        "\n",
        "send()\n",
        "export()"
      ],
      "execution_count": 0,
      "outputs": []
    },
    {
      "cell_type": "code",
      "metadata": {
        "id": "dZQc0fQVyBbT",
        "colab_type": "code",
        "colab": {}
      },
      "source": [
        ""
      ],
      "execution_count": 0,
      "outputs": []
    },
    {
      "cell_type": "markdown",
      "metadata": {
        "id": "k270l8raWL6x",
        "colab_type": "text"
      },
      "source": [
        ""
      ]
    },
    {
      "cell_type": "code",
      "metadata": {
        "id": "vLdxiDR6ySiG",
        "colab_type": "code",
        "colab": {}
      },
      "source": [
        "import pandas as pd\n",
        "from datetime import datetime\n",
        "\n",
        "def best():\n",
        "    specificDay = \"2015-01-01\"\n",
        "    file = \"assign11-1-catering_sale_all.xls\"\n",
        "    specificDay = datetime.strptime(specificDay, '%Y-%m-%d')\n",
        "    data = pd.read_excel(file)\n",
        "    maximum = data.max(axis=1)\n",
        "\n",
        "    print(\"Food name           Best sale:\")\n",
        "    print(\"------------------------------------\")\n",
        "    for d in range(len(data)):\n",
        "        if data['sale date'][d] == specificDay:\n",
        "            row = data.loc[d][1:11]\n",
        "            column=0\n",
        "            for r in row:\n",
        "                column = column+1\n",
        "                if r == maximum[d]:\n",
        "                    print(data.columns.values[column],\"     \" ,r)\n",
        "    print(\"------------------------------------\")\n",
        "\n",
        "best()"
      ],
      "execution_count": 0,
      "outputs": []
    }
  ]
}
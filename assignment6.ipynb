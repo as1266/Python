{
  "nbformat": 4,
  "nbformat_minor": 0,
  "metadata": {
    "colab": {
      "name": "assignment6.ipynb",
      "provenance": [],
      "collapsed_sections": [],
      "authorship_tag": "ABX9TyMh22qyrMT8qJmMnhQ7WNeP",
      "include_colab_link": true
    },
    "kernelspec": {
      "name": "python3",
      "display_name": "Python 3"
    }
  },
  "cells": [
    {
      "cell_type": "markdown",
      "metadata": {
        "id": "view-in-github",
        "colab_type": "text"
      },
      "source": [
        "<a href=\"https://colab.research.google.com/github/as1266/Python/blob/master/assignment6.ipynb\" target=\"_parent\"><img src=\"https://colab.research.google.com/assets/colab-badge.svg\" alt=\"Open In Colab\"/></a>"
      ]
    },
    {
      "cell_type": "code",
      "metadata": {
        "id": "MjLSZsVDQLhc",
        "colab_type": "code",
        "colab": {}
      },
      "source": [
        "import numpy as np\n",
        "from array import array\n",
        "\n",
        "\n",
        "def write(line):\n",
        "    with open(\"test.txt\", \"w\") as output_file:\n",
        "        string = map(str, line)\n",
        "        for i in string:\n",
        "            output_file.write(i)\n",
        "            output_file.write(\" \")\n",
        "\n",
        "\n",
        "def read():\n",
        "    with open(\"test.txt\", \"r\") as my_Handle:\n",
        "        all_lines = my_Handle.read()\n",
        "\n",
        "        split = all_lines.split(\" \")\n",
        "        split = split[:-1]\n",
        "        split = list(map(int, split))\n",
        "\n",
        "        arr = np.array(split)\n",
        "        arr[arr > 100] = 100\n",
        "        newString = map(str, arr)\n",
        "        print(arr)\n",
        "\n",
        "    with open(\"newfile.txt\", \"w\") as output_file:\n",
        "        for i in newString:\n",
        "            output_file.write(i)\n",
        "            output_file.write(\" \")\n",
        "\n",
        "\n",
        "\n",
        "line1 = [12, 23, 450, 600, 78, 900, 600, 800, 20, 10]\n",
        "write(line1)\n",
        "read()\n"
      ],
      "execution_count": 0,
      "outputs": []
    },
    {
      "cell_type": "code",
      "metadata": {
        "id": "YaN05AGWbKky",
        "colab_type": "code",
        "colab": {}
      },
      "source": [
        "from random import *\n",
        "\n",
        "def write(students):\n",
        "    with open(\"tuple.txt\", \"w\") as output:\n",
        "        for name in students:\n",
        "            name = str(name)\n",
        "            output.write(name)\n",
        "            output.write(\"\\n\")\n",
        "\n",
        "\n",
        "def read():\n",
        "    with open(\"tuple.txt\", \"r\") as handle:\n",
        "        readLines = handle.readlines()\n",
        "\n",
        "\n",
        "    with open(\"student and ID.txt\", \"w\") as output_file:\n",
        "        first_num = randint(0, 10)\n",
        "        second_num = randint(0,1)\n",
        "        third_num = randint(20,20)\n",
        "        l = readLines[first_num][second_num:third_num]\n",
        "        output_file.write(l)\n",
        "\n",
        "students = [(\"Bad itt\", \"Ba963\"), (\"ack Nik\", \"a937\"), (\"Juin er\", \"J984\"), (\"rad Pt\", \"R1963\"), (\"Jac Kik\", \"jk937\")\n",
        "    , (\"Justin Beiber\", \"1984\"), (\"Bra t\", \"sdf363\"), (\"Ja\", \"sfr937\"), (\"Juber\", \"asf84\"), (\"Animesh\", \"1266\")]\n",
        "write(students)\n",
        "read()"
      ],
      "execution_count": 0,
      "outputs": []
    }
  ]
}
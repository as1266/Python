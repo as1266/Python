{
  "nbformat": 4,
  "nbformat_minor": 0,
  "metadata": {
    "colab": {
      "name": "Assignment13.ipynb",
      "provenance": [],
      "collapsed_sections": [],
      "authorship_tag": "ABX9TyOrGXI8SXJxl4XtRDEvRJfp",
      "include_colab_link": true
    },
    "kernelspec": {
      "name": "python3",
      "display_name": "Python 3"
    }
  },
  "cells": [
    {
      "cell_type": "markdown",
      "metadata": {
        "id": "view-in-github",
        "colab_type": "text"
      },
      "source": [
        "<a href=\"https://colab.research.google.com/github/as1266/Python/blob/master/Assignment13.ipynb\" target=\"_parent\"><img src=\"https://colab.research.google.com/assets/colab-badge.svg\" alt=\"Open In Colab\"/></a>"
      ]
    },
    {
      "cell_type": "code",
      "metadata": {
        "id": "DWkVQcfN0JyX",
        "colab_type": "code",
        "colab": {}
      },
      "source": [
        "import pymysql\n",
        "import xlrd\n",
        "import pprint\n",
        "import matplotlib.pyplot as plt\n",
        "from matplotlib.pyplot import *\n",
        "import pandas as pd\n",
        "from datetime import datetime\n",
        "\n",
        "def bar_plot():\n",
        "    db = pymysql.connect(\"localhost\",\"root\",\"Computer34_\",\"world\")\n",
        "    cursor = db.cursor()\n",
        "\n",
        "    sql = \"Select Continent,LifeExpectancy FROM country\"\n",
        "    cursor.execute(sql)\n",
        "    data = cursor.fetchall()\n",
        "    Continent = []\n",
        "    LifeExepect = []\n",
        "    for i in data:\n",
        "        Continent.append(i[0])\n",
        "        LifeExepect.append(i[1])\n",
        "\n",
        "    plt.bar(Continent,LifeExepect)\n",
        "    plt.gca().set_xlabel('Values')\n",
        "    plt.gca().set_ylabel('Frequency')\n",
        "    plt.gca().set_title('Histogram: Life Expectancy by Continent')\n",
        "\n",
        "\n",
        "    db.close()\n",
        "\n",
        "    return (plt.show())\n",
        "  \n",
        "  bar_plot()"
      ],
      "execution_count": 0,
      "outputs": []
    },
    {
      "cell_type": "code",
      "metadata": {
        "id": "pLtSKCfo0WCs",
        "colab_type": "code",
        "colab": {}
      },
      "source": [
        "def foodname():\n",
        "    figure()\n",
        "    foodname= \"full chicken\"\n",
        "    file = \"assign11-1-catering_sale_all.xls\"\n",
        "\n",
        "    wb= xlrd.open_workbook(filename=file)\n",
        "    ws=wb.sheet_by_name(\"Sheet1\")\n",
        "    data = pd.read_excel(file)\n",
        "\n",
        "    date = []\n",
        "    for i in range(ws.nrows):\n",
        "        dates= ws.cell_value(i,0)\n",
        "        if dates != \"sale date\":\n",
        "            date.append(dates)\n",
        "\n",
        "    foodIndex = []\n",
        "    foodnamex= []\n",
        "    salevalue = []\n",
        "    for index, value in enumerate(data):\n",
        "        if value == foodname:\n",
        "            foodIndex.append(index)\n",
        "            for i in range(ws.nrows):\n",
        "                values = ws.cell_value(i,index)\n",
        "                if values == foodname:\n",
        "                    foodnamex.append(ws.cell_value(i,index))\n",
        "                else:\n",
        "                    salevalue.append(ws.cell_value(i,index))\n",
        "\n",
        "    plt.plot(date,salevalue)\n",
        "\n",
        "    plt.gca().set_xlabel('Dates')\n",
        "    plt.gca().set_ylabel('Values')\n",
        "    plt.gca().set_title('LineGraph of Date over Sale value')\n",
        "\n",
        "\n",
        "\n",
        "\n",
        "    return(plt.show())\n",
        "  \n",
        "  foodname()"
      ],
      "execution_count": 0,
      "outputs": []
    }
  ]
}
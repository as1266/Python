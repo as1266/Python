{
  "nbformat": 4,
  "nbformat_minor": 0,
  "metadata": {
    "colab": {
      "name": "Final.ipynb",
      "provenance": [],
      "collapsed_sections": [],
      "authorship_tag": "ABX9TyN0haArS42/m4kuv1515rLO",
      "include_colab_link": true
    },
    "kernelspec": {
      "name": "python3",
      "display_name": "Python 3"
    }
  },
  "cells": [
    {
      "cell_type": "markdown",
      "metadata": {
        "id": "view-in-github",
        "colab_type": "text"
      },
      "source": [
        "<a href=\"https://colab.research.google.com/github/as1266/Python/blob/master/Final.ipynb\" target=\"_parent\"><img src=\"https://colab.research.google.com/assets/colab-badge.svg\" alt=\"Open In Colab\"/></a>"
      ]
    },
    {
      "cell_type": "markdown",
      "metadata": {
        "id": "WRyMeSEf7Dk1",
        "colab_type": "text"
      },
      "source": [
        "1: write a function which could print a string content. The requirements are as follows (20’)\n",
        "\n",
        "(1) the function accepts one argument which is  printed as the string  content (10’)\n",
        "\n",
        "(2) the value of the argument should be provided in command line (10’)\n"
      ]
    },
    {
      "cell_type": "code",
      "metadata": {
        "id": "nJi1REKn62M5",
        "colab_type": "code",
        "colab": {}
      },
      "source": [
        "def printing(value):\n",
        "    return value\n",
        "\n",
        "\n",
        "value = str(input(\"Please input a string: \"))\n",
        "\n",
        "print(printing(value))\n"
      ],
      "execution_count": 0,
      "outputs": []
    },
    {
      "cell_type": "markdown",
      "metadata": {
        "id": "9f4CMn9c7qoG",
        "colab_type": "text"
      },
      "source": [
        "2: Write a program that could sum all the even digit in the scope of 1-1000. The requirements are as follows. (20’)\n",
        "\n",
        "(1) use the function of range to express the scope of 1-1000 (10’)\n",
        "\n",
        "(2) use for loop to deal with the scope (10’)\n"
      ]
    },
    {
      "cell_type": "code",
      "metadata": {
        "id": "d2QQ3JlH67Ir",
        "colab_type": "code",
        "colab": {}
      },
      "source": [
        "def evensum():\n",
        "    sum = 0\n",
        "    for i in range(1,1001):\n",
        "        if i%2 == 0:\n",
        "            sum =sum+ i\n",
        "    return (sum)\n",
        "\n",
        "print(evensum())"
      ],
      "execution_count": 0,
      "outputs": []
    },
    {
      "cell_type": "markdown",
      "metadata": {
        "id": "ljGwLpPR7xJ_",
        "colab_type": "text"
      },
      "source": [
        "3: Given a number list which is numbers=[12,10,3,2,[6,[7,8,9],19,21],21]. Write a function that can get the product of all the numbers in the list. The requirements are as follows. (20’)\n",
        "\n",
        "(1) write the function by recursion (10’)\n",
        "\n",
        "(2) the “numbers” should be an argument of the function (5’)\n",
        "\n",
        "(3) the function returns a number (5’)\n"
      ]
    },
    {
      "cell_type": "code",
      "metadata": {
        "id": "cN7C5_x168rz",
        "colab_type": "code",
        "colab": {}
      },
      "source": [
        "numbers = [12, 10, 3, 2, [6, [7, 8, 9], 19, 21], 21]\n",
        "\n",
        "\n",
        "def productNumbers(numbers):\n",
        "    sum = 1\n",
        "    for i in numbers:\n",
        "        if (type(i) == type([])):\n",
        "            sum = sum * productNumbers(i)\n",
        "        else:\n",
        "            sum = sum * i\n",
        "    return sum\n"
      ],
      "execution_count": 0,
      "outputs": []
    },
    {
      "cell_type": "markdown",
      "metadata": {
        "id": "wtIyetku74Sf",
        "colab_type": "text"
      },
      "source": [
        "4: Given a matrix which is matrix=[[23,43,12],[32,12,52],[15,35,52],[19,28,56]]. Write a function to complete the following task. (30’)\n",
        "\n",
        "(1) turn the matrix (List) into an array (5’)\n",
        "\n",
        "(2) use mask to set all the value above 20 to 0 (15’)\n",
        "\n",
        "(3) output the result into a txt file (10’)\n"
      ]
    },
    {
      "cell_type": "code",
      "metadata": {
        "id": "I8Jyn6IF7JIe",
        "colab_type": "code",
        "colab": {}
      },
      "source": [
        "import numpy as np\n",
        "matrix=[[23,43,12],\n",
        "        [32,12,52],\n",
        "        [15,35,52],\n",
        "        [19,28,56]]\n",
        "\n",
        "def sendList(matrix):\n",
        "    newarray = np.array(matrix)\n",
        "    newarray[newarray >20]=0\n",
        "\n",
        "    with open(\"output.txt\",\"w\") as output_file:\n",
        "        for line in newarray:\n",
        "            str(line)\n",
        "            output_file.writelines(f'{line}\\n')\n",
        "\n",
        "sendList(matrix)"
      ],
      "execution_count": 0,
      "outputs": []
    },
    {
      "cell_type": "markdown",
      "metadata": {
        "id": "CHLVEljM78dg",
        "colab_type": "text"
      },
      "source": [
        "5: Given a number list which is numbers=[1,3,2,4,2,3,2,2,3,2,2,4,2,32,3,2,4,2,3,5,3,2,4,2,2,4,2,2,4,2,2,3,1,3,2,3]. Write a function to complete  the following task. (30’)\n",
        "\n",
        "(1) count the frequency of each different number in numbers list (10’)\n",
        "\n",
        "(2) store the result into dictionary (10’)\n",
        "\n",
        "(3) print it out (10’)\n"
      ]
    },
    {
      "cell_type": "code",
      "metadata": {
        "id": "DroqkBrK7OX_",
        "colab_type": "code",
        "colab": {}
      },
      "source": [
        "numbers=[1,3,2,4,2,3,2,2,3,2,2,4,2,32,3,2,4,2,3,5,3,2,4,2,2,4,2,2,4,2,2,3,1,3,2,3]\n",
        "\n",
        "def freq(numbers):\n",
        "    dictionary= {}\n",
        "    for i in range(len(numbers)):\n",
        "        dictionary[numbers[i]] = numbers.count(numbers[i])\n",
        "    for key, value in dictionary.items():\n",
        "        print(key,value)\n",
        "\n",
        "freq(numbers)"
      ],
      "execution_count": 0,
      "outputs": []
    },
    {
      "cell_type": "markdown",
      "metadata": {
        "id": "wbqA6NhE8AOX",
        "colab_type": "text"
      },
      "source": [
        "6: Create a class Point which represent a point in two dimensions. It has two properties x and y. The detail requirements are as follows.\n",
        "(1) When creating an object of Point, we can assign the value to x and y. If we don’t provide the value, they will be 0. (10’)\n",
        "\n",
        "(2) If we print the object of Point directly, it will output the value of x and y. Its running effect is as follows. (10’)\n",
        "\n",
        "(3) if we create two different objects of Point which are p1 and p2, (p1+p2) will get a new Point whose x is (p1.x+p2.x) and y is (p1.y+p2.y). Suppose p1(1,3) and p2(3.,4), then the result of print(p1+p2) is shown as follows. (10’)\n"
      ]
    },
    {
      "cell_type": "code",
      "metadata": {
        "id": "HloHHbUi7P27",
        "colab_type": "code",
        "colab": {}
      },
      "source": [
        "class Point:\n",
        "    def __init__(self, x=0,y=0):\n",
        "        self.x = x\n",
        "        self.y = y\n",
        "\n",
        "    def __str__(self):\n",
        "        return \"({0},{1})\".format(self.x, self.y)\n",
        "\n",
        "    def addPoints(self,point1,point2):\n",
        "        x = point1.x+point2.x\n",
        "        y = point1.y+point2.y\n",
        "        return (x,y)\n",
        "\n",
        "\n",
        "myPoint = Point(3,4)\n",
        "\n",
        "print(\"The Point is \",myPoint)\n",
        "\n",
        "p1= Point(1,3)\n",
        "p2= Point(3,4)\n",
        "\n",
        "print(\"The Point is\", Point().addPoints(p1,p2))"
      ],
      "execution_count": 0,
      "outputs": []
    },
    {
      "cell_type": "markdown",
      "metadata": {
        "id": "S6hscW808XIr",
        "colab_type": "text"
      },
      "source": [
        "7: Given an excel file named “catering_sale_all.xls”. It stores the sale situation of several kinds of food on one month. Write a program that could print the total sales volume of the month by a specific food. The detail requirements are follows.(50’)\n",
        "\n",
        "(1) when running the program, it will list all the food with a fixed number in the excel (10’)\n",
        "\n",
        "(2) it notify a user to specific one number (10’)\n",
        "\n",
        "(3) it print the specific food’s total sales volume of one month (10’)\n",
        "\n",
        "(4) after print the result, a user could switch to print another food’s sales volume (10’)\n",
        "(5) when the user select exit, the program exits (10’)\n"
      ]
    },
    {
      "cell_type": "code",
      "metadata": {
        "id": "D8HO3KoY7Row",
        "colab_type": "code",
        "colab": {}
      },
      "source": [
        "import pandas as pd\n",
        "from datetime import *\n",
        "\n",
        "def total():\n",
        "    file = \"catering_sale_all.xls\"\n",
        "    data = pd.read_excel(file)\n",
        "    num =1\n",
        "\n",
        "    foodnames = []\n",
        "    for i in data:\n",
        "        foodnames.append(i)\n",
        "\n",
        "\n",
        "    selectedname = []\n",
        "\n",
        "    while num == 1:\n",
        "        for i in selectedname:\n",
        "            selectedname.remove(i)\n",
        "\n",
        "        print(\"0 exit\")\n",
        "        for i in range(1,11):\n",
        "            print(i,foodnames[i])\n",
        "\n",
        "        userinput= int(input(\"Please enter a number in the list: \"))\n",
        "\n",
        "        if userinput == 0:\n",
        "            num = 0\n",
        "\n",
        "        else:\n",
        "            print(\"------------------------------------\")\n",
        "            for i in foodnames:\n",
        "                if foodnames.index(i) == userinput:\n",
        "                    selectedname.append(i)\n",
        "            total = data[selectedname].sum()\n",
        "            print(\"The total sale of\",total)\n",
        "\n",
        "    return\n",
        "\n",
        "total()\n",
        "\n"
      ],
      "execution_count": 0,
      "outputs": []
    },
    {
      "cell_type": "markdown",
      "metadata": {
        "id": "Xu--jRlK8jfY",
        "colab_type": "text"
      },
      "source": [
        "8. Given a sql file named “world.sql” which are exported from MySQL by MySQL GUI Tools (For Mac: MySQL Workbench, For Windows: MySQL Administrator).Write a series of functions to complete the following tasks. (50’)\n",
        "\n",
        "(1) import the data into MySQL — this is an operation not program (10’)\n",
        "\n",
        "(2) write a function to connect to the ”world” schema by using of “pymysql” module (10’)\n",
        "\n",
        "(3) For the “country” table, write a function to retrieve the average life expectancy of every continent (20’)\n",
        "\n",
        "(4) print the result (10’)\n"
      ]
    },
    {
      "cell_type": "code",
      "metadata": {
        "id": "uVY_iUS87UC9",
        "colab_type": "code",
        "colab": {}
      },
      "source": [
        "import pymysql\n",
        "import pprint as pp\n",
        "def connect():\n",
        "    db = pymysql.connect(\"localhost\", \"root\", \"Computer34_\", \"world\")\n",
        "    return db\n",
        "\n",
        "def average(db):\n",
        "    cursor = db.cursor()\n",
        "    sql = \"Select Avg(LifeExpectancy),Continent FROM country GROUP BY  Continent\"\n",
        "    cursor.execute(sql)\n",
        "    data = cursor.fetchall()\n",
        "\n",
        "    print(\"AvgLife | Continent\")\n",
        "    for i in list(data):\n",
        "        print(i[0],\"|\",i[1])\n",
        "\n",
        "\n",
        "\n",
        "db = connect()\n",
        "average(db)\n",
        "\n"
      ],
      "execution_count": 0,
      "outputs": []
    },
    {
      "cell_type": "markdown",
      "metadata": {
        "id": "HVwlaV3k8uEX",
        "colab_type": "text"
      },
      "source": [
        "9. Using the “world” schema imported in Question 8. For the “country” table, write a series of functions to complete the following tasks. (50’)\n",
        "\n",
        "(1) write a function to connect to the ”world” schema by using of “pymysql” module (10’)\n",
        "\n",
        "(2) write a function to calculate the total population by every continent (20’)\n",
        "\n",
        "(3) use pie plot to display the result. (20’)\n"
      ]
    },
    {
      "cell_type": "code",
      "metadata": {
        "id": "RdPo8yau7WCw",
        "colab_type": "code",
        "colab": {}
      },
      "source": [
        "import pymysql\n",
        "from matplotlib.pyplot import *\n",
        "import matplotlib.pyplot as plt\n",
        "\n",
        "\n",
        "def connect():\n",
        "    db = pymysql.connect(\"localhost\", \"root\", \"Computer34_\", \"world\")\n",
        "    return db\n",
        "\n",
        "\n",
        "def totalPop(db):\n",
        "    cursor = db.cursor()\n",
        "\n",
        "    sql = \"SELECT SUM(POPULATION), Continent FROM country GROUP BY Continent\"\n",
        "    cursor.execute(sql)\n",
        "    data = cursor.fetchall()\n",
        "\n",
        "    figure(1, figsize=(6, 6))\n",
        "\n",
        "    population = []\n",
        "    continent = []\n",
        "    for i in data:\n",
        "        population.append(i[0])\n",
        "        continent.append(i[1])\n",
        "\n",
        "    label = continent\n",
        "    sizes = population\n",
        "\n",
        "    explode = (0.1, 0.1, 0.1, 0.1,0.1,0.1,0.1)\n",
        "\n",
        "    pie(sizes, explode = explode, labels = label, autopct = '%1.1f%%', startangle=100)\n",
        "    title('Population by Continent')\n",
        "\n",
        "\n",
        "    return show()\n",
        "\n",
        "db = connect()\n",
        "totalPop(db)\n"
      ],
      "execution_count": 0,
      "outputs": []
    },
    {
      "cell_type": "markdown",
      "metadata": {
        "id": "OT6cN8iI80TM",
        "colab_type": "text"
      },
      "source": [
        "10. Given a csv file named “energy-production.csv”. It stores energy production of one area between 1973 and 2014. Write a series of functions to complete the following tasks. (50’)\n",
        "\n",
        "(1) use “panda” to load the “energy-production.csv” file (10’)\n",
        "\n",
        "(2) Write a function which accept year (1973-2014) as argument to retrieve the specific year’s energy production in detail. (20’)\n",
        "\n",
        "(3) use bar plot to display the retrieved result. (20’)\n"
      ]
    },
    {
      "cell_type": "code",
      "metadata": {
        "id": "DxZaI5aT7YBF",
        "colab_type": "code",
        "colab": {}
      },
      "source": [
        "import pandas as pd\n",
        "import matplotlib.pyplot as plt\n",
        "from matplotlib import *\n",
        "\n",
        "\n",
        "def load(year):\n",
        "    data = pd.read_csv('energy-production.csv')\n",
        "    YearRow = data[data['Year']==year]\n",
        "    YearRow = YearRow.drop(columns = ['Unnamed: 0', 'Year'], axis=1)\n",
        "\n",
        "    y =[]\n",
        "    for keys,values in YearRow.items():\n",
        "        for i in values:\n",
        "            y.append(i)\n",
        "    x= []\n",
        "    for i in YearRow:\n",
        "        x.append(i)\n",
        "\n",
        "    plt.bar(x,y)\n",
        "    plt.xticks(x, ha='right', rotation=55, fontsize=6, fontname='monospace')\n",
        "    return plt.show()\n",
        "\n",
        "\n",
        "year = int(input(\"Please input a year between 1973 and 2014: \"))\n",
        "load(year)\n"
      ],
      "execution_count": 0,
      "outputs": []
    }
  ]
}
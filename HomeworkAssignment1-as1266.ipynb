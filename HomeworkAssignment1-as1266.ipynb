{
  "nbformat": 4,
  "nbformat_minor": 0,
  "metadata": {
    "colab": {
      "name": "HomeworkAssignment1.ipynb",
      "provenance": [],
      "collapsed_sections": [],
      "authorship_tag": "ABX9TyNVWNZjye3f44jqANi1Yfac",
      "include_colab_link": true
    },
    "kernelspec": {
      "name": "python3",
      "display_name": "Python 3"
    }
  },
  "cells": [
    {
      "cell_type": "markdown",
      "metadata": {
        "id": "view-in-github",
        "colab_type": "text"
      },
      "source": [
        "<a href=\"https://colab.research.google.com/github/as1266/Python/blob/master/HomeworkAssignment1-as1266.ipynb\" target=\"_parent\"><img src=\"https://colab.research.google.com/assets/colab-badge.svg\" alt=\"Open In Colab\"/></a>"
      ]
    },
    {
      "cell_type": "code",
      "metadata": {
        "id": "EhbRgeLSsjE1",
        "colab_type": "code",
        "outputId": "30c08cb8-5242-448a-def3-6210b9022588",
        "colab": {
          "base_uri": "https://localhost:8080/",
          "height": 51
        }
      },
      "source": [
        "#1: Assume the days of the week are numbered 0,1,2,3,4,5,6 from Sunday to Saturday. Write a program that asks a day number, and prints the day name (a string).\n",
        "#Animesh Siwakoti\n",
        "x=input(\"Please Enter a day of the week! The choices are from 0,1,2,3,4,5,6.\")\n",
        "x=float(x)\n",
        "if x==0:\n",
        "    {\n",
        "        print(\"You chose Sunday \")\n",
        "    }\n",
        "elif x == 1:\n",
        "    {\n",
        "        print(\"You chose Monday\")\n",
        "    }\n",
        "elif x == 2:\n",
        "    {\n",
        "        print(\"You chose Tuesday\")\n",
        "    }\n",
        "elif x == 3:\n",
        "    {\n",
        "        print(\"You chose Wednesday\")\n",
        "    }\n",
        "elif x == 4:\n",
        "    {\n",
        "        print(\"You chose Thursday\")\n",
        "    }\n",
        "elif x == 5:\n",
        "    {\n",
        "        print(\"You chose Ftriday\")\n",
        "    }\n",
        "elif x == 6:\n",
        "    {\n",
        "        print(\"You chose Saturday\")\n",
        "    }"
      ],
      "execution_count": 0,
      "outputs": [
        {
          "output_type": "stream",
          "text": [
            "Please Enter a day of the week! The choices are from 0,1,2,3,4,5,6.0\n",
            "You chose Sunday \n"
          ],
          "name": "stdout"
        }
      ]
    },
    {
      "cell_type": "code",
      "metadata": {
        "id": "Np_-enUNs4P2",
        "colab_type": "code",
        "outputId": "8cd4453f-c364-453b-dfea-4f867349cca8",
        "colab": {
          "base_uri": "https://localhost:8080/",
          "height": 68
        }
      },
      "source": [
        "#2: Write a program which, given the length of two sides of a right-angled triangle, returns the length of the hypotenuse\n",
        "import math\n",
        "sideA=input(\"Please enter the side A!\")\n",
        "sideB=input(\"Please enter the side B!\")\n",
        "\n",
        "sideA=float(sideA)\n",
        "sideB=float(sideB)\n",
        "\n",
        "sideC=(sideA**2)+(sideB**2)\n",
        "sideC=math.sqrt(sideC)\n",
        "print(\"The length of your Hypotnuse is \", sideC)"
      ],
      "execution_count": 0,
      "outputs": [
        {
          "output_type": "stream",
          "text": [
            "Please enter the side A!23\n",
            "Please enter the side B!3\n",
            "The length of your Hypotnuse is  23.194827009486403\n"
          ],
          "name": "stdout"
        }
      ]
    },
    {
      "cell_type": "code",
      "metadata": {
        "id": "4sqb63jns-lM",
        "colab_type": "code",
        "outputId": "77205ef3-e7fb-4a9c-8ee8-fea463e1f2e7",
        "colab": {
          "base_uri": "https://localhost:8080/",
          "height": 85
        }
      },
      "source": [
        "#3 Write a program which, given the length of three sides of a triangle, will determine whether the triangle is right- angled. Assume\n",
        "# that the third argument to the function is always the longest side. It will return True if the triangle is right-angled,\n",
        "# or False otherwise.\n",
        "\n",
        "sideA = input(\"Please enter the side A!\")\n",
        "sideB = input(\"Please enter the side B!\")\n",
        "sideC = input(\"Please enter the side C!\")\n",
        "\n",
        "sideA = float(sideA)\n",
        "sideB = float(sideB)\n",
        "sideC = float(sideC)\n",
        "\n",
        "if sideC > sideA and sideC > sideB:\n",
        "    print(\"True\")\n",
        "else:\n",
        "    print(\"False\")"
      ],
      "execution_count": 0,
      "outputs": [
        {
          "output_type": "stream",
          "text": [
            "Please enter the side A!34\n",
            "Please enter the side B!23\n",
            "Please enter the side C!54\n",
            "True\n"
          ],
          "name": "stdout"
        }
      ]
    },
    {
      "cell_type": "code",
      "metadata": {
        "id": "kAHqUgRwtMJM",
        "colab_type": "code",
        "outputId": "303f062e-f831-4d6e-ac32-c3f950b279bf",
        "colab": {
          "base_uri": "https://localhost:8080/",
          "height": 221
        }
      },
      "source": [
        "# 4:Write a program that uses a for loop to print( January to December)\n",
        "# One of the months of the year is January\n",
        "# One of the months of the year is February ...\n",
        "calander = 'January', \"February\", \"March \", \"April\", \"May\", \"June\", \"July\", \"August\", \"September\", \"October\", \"November\", \"December \"\n",
        "for i in calander:\n",
        "        print(\"One of the month of the year is \", i, )\n"
      ],
      "execution_count": 0,
      "outputs": [
        {
          "output_type": "stream",
          "text": [
            "One of the month of the year is  January\n",
            "One of the month of the year is  February\n",
            "One of the month of the year is  March \n",
            "One of the month of the year is  April\n",
            "One of the month of the year is  May\n",
            "One of the month of the year is  June\n",
            "One of the month of the year is  July\n",
            "One of the month of the year is  August\n",
            "One of the month of the year is  September\n",
            "One of the month of the year is  October\n",
            "One of the month of the year is  November\n",
            "One of the month of the year is  December \n"
          ],
          "name": "stdout"
        }
      ]
    },
    {
      "cell_type": "code",
      "metadata": {
        "id": "Fyf7bRWEtQf6",
        "colab_type": "code",
        "outputId": "c792ddca-6df7-4623-b6a8-b9bf21d97d80",
        "colab": {
          "base_uri": "https://localhost:8080/",
          "height": 51
        }
      },
      "source": [
        "# 5: Assume you have the assignment numbers = [12, 10, 32, 3, 66, 17, 42, 99, 20]\n",
        "# (a) Write a loop that adds all the numbers from the list into a variable called total.\n",
        "#You should set the total variable to have the value 0 before you start adding them up, and print the value in total after the loop has completed.\n",
        "# (b)  Print the product of all the numbers in the list. (product means all multiplied together)\n",
        "\n",
        "numbers = [12, 10, 32, 3, 66, 17, 42, 99, 20]\n",
        "total = 0\n",
        "\n",
        "for i in numbers:\n",
        "    total = i + total\n",
        "print(total)\n",
        "\n",
        "total = 1\n",
        "\n",
        "for i in numbers:\n",
        "    total = i * total\n",
        "print(total)\n"
      ],
      "execution_count": 0,
      "outputs": [
        {
          "output_type": "stream",
          "text": [
            "301\n",
            "1074879590400\n"
          ],
          "name": "stdout"
        }
      ]
    },
    {
      "cell_type": "code",
      "metadata": {
        "id": "xvR2n9cTta17",
        "colab_type": "code",
        "colab": {}
      },
      "source": [
        "# 6: Use for loops to make a turtle draw these regular polygons(regular means all sides the same lengths, all angles the same):\n",
        "#  An equilateral triangle\u000b  • A hexagon (six sides)\u000b\n",
        "# works in pycharm IDE\n",
        "import turtle\n",
        "\n",
        "window = turtle.Screen()\n",
        "window.title(\"Turtle Shapes!\")\n",
        "\n",
        "hex =turtle.Turtle()\n",
        "hex.up()\n",
        "hex.forward(-70)\n",
        "hex.down()\n",
        "for i in range (6):\n",
        "    hex.forward(30)\n",
        "    hex.left(60)\n",
        "\n",
        "triangle = turtle.Turtle()\n",
        "for i in range (3):\n",
        "    triangle.forward(50)\n",
        "    triangle.left(120)\n",
        "window.mainloop()\n"
      ],
      "execution_count": 0,
      "outputs": []
    },
    {
      "cell_type": "code",
      "metadata": {
        "id": "fAG6ErlFtd8J",
        "colab_type": "code",
        "colab": {}
      },
      "source": [
        "#7: A drunk pirate makes a random turn and then takes 100 steps forward, makes another random turn, takes another 100 steps, turns another random amount, etc.\n",
        "# A social science student records the angle of each turn before the next 100 steps are taken. Her experimental data is [160, -43, 270, -97, -43, 200, -940, 17, -86].\n",
        "# (Positive angles are counter-clockwise.)\n",
        "# Use a turtle to draw the path taken by our drunk friend.\n",
        "#works in pycharm IDE\n",
        "\n",
        "import turtle\n",
        "\n",
        "window = turtle.Screen()\n",
        "window.title(\"Drunk Pirate!\")\n",
        "\n",
        "drunkP = turtle.Turtle()\n",
        "drunkP.color(\"Blue\")\n",
        "drunkP.pendown()\n",
        "\n",
        "for TipsyTurns in [160, -43, 270, -97, -43, 200, -940, 17, -86]:\n",
        "    drunkP.left(TipsyTurns)\n",
        "    drunkP.forward(100)\n",
        "window.mainloop()\n",
        "\n"
      ],
      "execution_count": 0,
      "outputs": []
    },
    {
      "cell_type": "code",
      "metadata": {
        "id": "QFDcgehLtpqf",
        "colab_type": "code",
        "outputId": "6490859a-b7a4-43b4-f9d8-d85329eac2b8",
        "colab": {
          "base_uri": "https://localhost:8080/",
          "height": 34
        }
      },
      "source": [
        "# 8: Write a program that counts the number of even digits in the scope of 1—1000.\n",
        "evenCount = 0\n",
        "for number in range(1, 1001):\n",
        "    if (number % 2) == 0:\n",
        "        evenCount = evenCount+1\n",
        "print(\"The count of even numbers is \", evenCount, \"!\")\n",
        "\n",
        "\n"
      ],
      "execution_count": 1,
      "outputs": [
        {
          "output_type": "stream",
          "text": [
            "The count of even numbers is  500 !\n"
          ],
          "name": "stdout"
        }
      ]
    }
  ]
}